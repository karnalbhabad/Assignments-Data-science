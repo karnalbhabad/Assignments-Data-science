{
 "cells": [
  {
   "cell_type": "markdown",
   "id": "d1ea3fc2",
   "metadata": {},
   "source": [
    "# Basic statistics level-1"
   ]
  },
  {
   "cell_type": "markdown",
   "id": "38603a21",
   "metadata": {},
   "source": [
    "# Assignment-1, Question no.24"
   ]
  },
  {
   "cell_type": "code",
   "execution_count": 1,
   "id": "2411aff6",
   "metadata": {},
   "outputs": [],
   "source": [
    "from scipy import stats\n",
    "from scipy.stats import norm"
   ]
  },
  {
   "cell_type": "markdown",
   "id": "014aa530",
   "metadata": {},
   "source": [
    "# t = (s_mean - P_mean) / (s_SD/sqrt(n))"
   ]
  },
  {
   "cell_type": "code",
   "execution_count": 3,
   "id": "8e140bb9",
   "metadata": {},
   "outputs": [
    {
     "data": {
      "text/plain": [
       "-0.4714045207910317"
      ]
     },
     "execution_count": 3,
     "metadata": {},
     "output_type": "execute_result"
    }
   ],
   "source": [
    "# find t-score at x= 260\n",
    "t = (260-270)/(90/18**0.5)\n",
    "t"
   ]
  },
  {
   "cell_type": "code",
   "execution_count": 10,
   "id": "48e69dd1",
   "metadata": {},
   "outputs": [
    {
     "data": {
      "text/plain": [
       "0.32073040369132255"
      ]
     },
     "execution_count": 10,
     "metadata": {},
     "output_type": "execute_result"
    }
   ],
   "source": [
    "# p_value = 1-stats.t.cdf(abs(t_scores),df= n-1)....Using cdf function\n",
    "p_value=1-stats.t.cdf(abs(-0.4741),df=17)\n",
    "p_value\n"
   ]
  },
  {
   "cell_type": "code",
   "execution_count": 11,
   "id": "2903c4fe",
   "metadata": {},
   "outputs": [
    {
     "data": {
      "text/plain": [
       "0.32167411684460556"
      ]
     },
     "execution_count": 11,
     "metadata": {},
     "output_type": "execute_result"
    }
   ],
   "source": [
    "# OR p_value=stats.t.sf(abs(t_score),df=n-1)....usinf sf function\n",
    "p_value=stats.t.sf(abs(-0.4714),df=17)\n",
    "p_value"
   ]
  },
  {
   "cell_type": "code",
   "execution_count": null,
   "id": "7abc13d7",
   "metadata": {},
   "outputs": [],
   "source": []
  }
 ],
 "metadata": {
  "kernelspec": {
   "display_name": "Python 3 (ipykernel)",
   "language": "python",
   "name": "python3"
  },
  "language_info": {
   "codemirror_mode": {
    "name": "ipython",
    "version": 3
   },
   "file_extension": ".py",
   "mimetype": "text/x-python",
   "name": "python",
   "nbconvert_exporter": "python",
   "pygments_lexer": "ipython3",
   "version": "3.9.12"
  }
 },
 "nbformat": 4,
 "nbformat_minor": 5
}
