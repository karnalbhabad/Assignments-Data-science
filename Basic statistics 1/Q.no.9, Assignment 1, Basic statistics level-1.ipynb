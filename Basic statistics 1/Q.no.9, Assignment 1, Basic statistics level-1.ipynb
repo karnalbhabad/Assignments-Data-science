{
 "cells": [
  {
   "cell_type": "markdown",
   "id": "44e67c2c",
   "metadata": {},
   "source": [
    "# Basic statistics level-1"
   ]
  },
  {
   "cell_type": "markdown",
   "id": "74d64914",
   "metadata": {},
   "source": [
    "# Assignment-1, Question no. 9"
   ]
  },
  {
   "cell_type": "code",
   "execution_count": 1,
   "id": "c9e7e3fc",
   "metadata": {},
   "outputs": [],
   "source": [
    "import seaborn as sns\n",
    "import pandas as pd\n",
    "import scipy\n",
    "import warnings\n",
    "warnings.filterwarnings(\"ignore\")"
   ]
  },
  {
   "cell_type": "code",
   "execution_count": 16,
   "id": "888ee01b",
   "metadata": {},
   "outputs": [],
   "source": [
    "df = pd.read_csv('Q9_a.csv',index_col=0)"
   ]
  },
  {
   "cell_type": "code",
   "execution_count": 17,
   "id": "c0763e08",
   "metadata": {},
   "outputs": [],
   "source": [
    "from scipy.stats import skew"
   ]
  },
  {
   "cell_type": "code",
   "execution_count": 18,
   "id": "c0e4a549",
   "metadata": {},
   "outputs": [
    {
     "name": "stdout",
     "output_type": "stream",
     "text": [
      "       speed  dist\n",
      "Index             \n",
      "1          4     2\n",
      "2          4    10\n",
      "3          7     4\n",
      "4          7    22\n",
      "5          8    16\n",
      "6          9    10\n",
      "7         10    18\n",
      "8         10    26\n",
      "9         10    34\n",
      "10        11    17\n",
      "11        11    28\n",
      "12        12    14\n",
      "13        12    20\n",
      "14        12    24\n",
      "15        12    28\n",
      "16        13    26\n",
      "17        13    34\n",
      "18        13    34\n",
      "19        13    46\n",
      "20        14    26\n",
      "21        14    36\n",
      "22        14    60\n",
      "23        14    80\n",
      "24        15    20\n",
      "25        15    26\n",
      "26        15    54\n",
      "27        16    32\n",
      "28        16    40\n",
      "29        17    32\n",
      "30        17    40\n",
      "31        17    50\n",
      "32        18    42\n",
      "33        18    56\n",
      "34        18    76\n",
      "35        18    84\n",
      "36        19    36\n",
      "37        19    46\n",
      "38        19    68\n",
      "39        20    32\n",
      "40        20    48\n",
      "41        20    52\n",
      "42        20    56\n",
      "43        20    64\n",
      "44        22    66\n",
      "45        23    54\n",
      "46        24    70\n",
      "47        24    92\n",
      "48        24    93\n",
      "49        24   120\n",
      "50        25    85\n"
     ]
    }
   ],
   "source": [
    "print(df)"
   ]
  },
  {
   "cell_type": "code",
   "execution_count": 19,
   "id": "6b1770ec",
   "metadata": {},
   "outputs": [
    {
     "name": "stdout",
     "output_type": "stream",
     "text": [
      "[-0.11395477  0.78248352]\n"
     ]
    }
   ],
   "source": [
    "print(skew(df, axis=0, bias=True))"
   ]
  },
  {
   "cell_type": "code",
   "execution_count": 20,
   "id": "c5325b02",
   "metadata": {},
   "outputs": [
    {
     "data": {
      "text/plain": [
       "<AxesSubplot:ylabel='Density'>"
      ]
     },
     "execution_count": 20,
     "metadata": {},
     "output_type": "execute_result"
    },
    {
     "data": {
      "image/png": "[encoded data removed]",
      "text/plain": [
       "<Figure size 432x288 with 1 Axes>"
      ]
     },
     "metadata": {
      "needs_background": "light"
     },
     "output_type": "display_data"
    }
   ],
   "source": [
    "sns.distplot(df)"
   ]
  },
  {
   "cell_type": "code",
   "execution_count": 21,
   "id": "4654eb8a",
   "metadata": {},
   "outputs": [],
   "source": [
    "from scipy.stats import kurtosis"
   ]
  },
  {
   "cell_type": "code",
   "execution_count": 22,
   "id": "2450ab66",
   "metadata": {},
   "outputs": [
    {
     "name": "stdout",
     "output_type": "stream",
     "text": [
      "[-0.57714742  0.24801866]\n"
     ]
    }
   ],
   "source": [
    "print(kurtosis(df, axis=0, bias=True))"
   ]
  },
  {
   "cell_type": "code",
   "execution_count": 24,
   "id": "c49fdebe",
   "metadata": {},
   "outputs": [],
   "source": [
    "df = pd.read_csv('Q9_b.csv',index_col=0)"
   ]
  },
  {
   "cell_type": "code",
   "execution_count": 25,
   "id": "ef812141",
   "metadata": {},
   "outputs": [
    {
     "name": "stdout",
     "output_type": "stream",
     "text": [
      "            SP         WT\n",
      "1   104.185353  28.762059\n",
      "2   105.461264  30.466833\n",
      "3   105.461264  30.193597\n",
      "4   113.461264  30.632114\n",
      "5   104.461264  29.889149\n",
      "..         ...        ...\n",
      "77  169.598513  16.132947\n",
      "78  150.576579  37.923113\n",
      "79  151.598513  15.769625\n",
      "80  167.944460  39.423099\n",
      "81  139.840817  34.948615\n",
      "\n",
      "[81 rows x 2 columns]\n"
     ]
    }
   ],
   "source": [
    "print(df)"
   ]
  },
  {
   "cell_type": "code",
   "execution_count": 26,
   "id": "364b19bb",
   "metadata": {},
   "outputs": [
    {
     "name": "stdout",
     "output_type": "stream",
     "text": [
      "[ 1.58145368 -0.60330993]\n"
     ]
    }
   ],
   "source": [
    "print(skew(df, axis=0, bias=True))"
   ]
  },
  {
   "cell_type": "code",
   "execution_count": 27,
   "id": "22c119c7",
   "metadata": {
    "scrolled": true
   },
   "outputs": [
    {
     "name": "stdout",
     "output_type": "stream",
     "text": [
      "[2.72352149 0.81946588]\n"
     ]
    }
   ],
   "source": [
    "print(kurtosis(df, axis=0, bias=True))"
   ]
  },
  {
   "cell_type": "code",
   "execution_count": null,
   "id": "5b4ec40b",
   "metadata": {},
   "outputs": [],
   "source": []
  }
 ],
 "metadata": {
  "kernelspec": {
   "display_name": "Python 3 (ipykernel)",
   "language": "python",
   "name": "python3"
  },
  "language_info": {
   "codemirror_mode": {
    "name": "ipython",
    "version": 3
   },
   "file_extension": ".py",
   "mimetype": "text/x-python",
   "name": "python",
   "nbconvert_exporter": "python",
   "pygments_lexer": "ipython3",
   "version": "3.9.12"
  }
 },
 "nbformat": 4,
 "nbformat_minor": 5
}
