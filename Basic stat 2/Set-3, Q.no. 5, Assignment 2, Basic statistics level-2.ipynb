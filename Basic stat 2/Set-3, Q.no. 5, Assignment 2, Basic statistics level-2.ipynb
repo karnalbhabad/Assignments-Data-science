{
 "cells": [
  {
   "cell_type": "markdown",
   "id": "2491c13d",
   "metadata": {},
   "source": [
    "# Basic statistics level-2"
   ]
  },
  {
   "cell_type": "markdown",
   "id": "7c15cf25",
   "metadata": {},
   "source": [
    "# Assignment-2, Set-3, Question no.5"
   ]
  },
  {
   "cell_type": "code",
   "execution_count": 1,
   "id": "41d635f8",
   "metadata": {},
   "outputs": [],
   "source": [
    "import pandas as pd\n",
    "import numpy as np\n",
    "from scipy import stats\n",
    "from scipy.stats import norm\n",
    "import statsmodels.api as smf"
   ]
  },
  {
   "cell_type": "markdown",
   "id": "a880ab2e",
   "metadata": {},
   "source": [
    "null_hypothesis >= 5%\n",
    "alternate hypothesis < 5%"
   ]
  },
  {
   "cell_type": "code",
   "execution_count": 9,
   "id": "af59caac",
   "metadata": {},
   "outputs": [
    {
     "data": {
      "text/plain": [
       "0.20582313410777142"
      ]
     },
     "execution_count": 9,
     "metadata": {},
     "output_type": "execute_result"
    }
   ],
   "source": [
    "p_hat = 0.46\n",
    "p = 0.05\n",
    "n = 2000\n",
    "\n",
    "# Z_score = p_hat- p/(p(1-p)/n)**0.5\n",
    "z_score =(p_hat-p)/(np.sqrt((p*(1-p))/n))\n",
    "z_score\n",
    "\n",
    "p_value = stats.norm.sf(0.821)\n",
    "p_value"
   ]
  },
  {
   "cell_type": "markdown",
   "id": "5aaa956a",
   "metadata": {},
   "source": [
    "Find Probability assuming null hyposthesis, so as to compare with Type-1 error α = 0.05"
   ]
  },
  {
   "cell_type": "code",
   "execution_count": 11,
   "id": "a8a0d5bb",
   "metadata": {},
   "outputs": [
    {
     "name": "stdout",
     "output_type": "stream",
     "text": [
      "No: Microsoft could not conclude that Mozilla firefox has a less\n",
      "    than 5% share of the market even if the sample were \n",
      "    based on 2,000 users\n"
     ]
    }
   ],
   "source": [
    "if p_value>0.05:\n",
    "    print(\"\"\"No: Microsoft could not conclude that Mozilla firefox has a less\n",
    "    than 5% share of the market even if the sample were \n",
    "    based on 2,000 users\"\"\")\n",
    "else:\n",
    "    print(\"Yes\")"
   ]
  }
 ],
 "metadata": {
  "kernelspec": {
   "display_name": "Python 3 (ipykernel)",
   "language": "python",
   "name": "python3"
  },
  "language_info": {
   "codemirror_mode": {
    "name": "ipython",
    "version": 3
   },
   "file_extension": ".py",
   "mimetype": "text/x-python",
   "name": "python",
   "nbconvert_exporter": "python",
   "pygments_lexer": "ipython3",
   "version": "3.9.12"
  }
 },
 "nbformat": 4,
 "nbformat_minor": 5
}
