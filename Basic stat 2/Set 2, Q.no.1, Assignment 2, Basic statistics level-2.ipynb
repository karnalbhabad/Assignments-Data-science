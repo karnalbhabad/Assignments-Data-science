{
 "cells": [
  {
   "cell_type": "markdown",
   "id": "350a5a85",
   "metadata": {},
   "source": [
    "# Basic statistics level-2"
   ]
  },
  {
   "cell_type": "markdown",
   "id": "b7d8cdf3",
   "metadata": {},
   "source": [
    "# Assignment-2, Set-2, Question no.1"
   ]
  },
  {
   "cell_type": "code",
   "execution_count": 1,
   "id": "d4c53a11",
   "metadata": {},
   "outputs": [],
   "source": [
    "from scipy import stats\n",
    "from scipy.stats import norm"
   ]
  },
  {
   "cell_type": "markdown",
   "id": "f9733f95",
   "metadata": {},
   "source": [
    "Find Z-score at X = 50, where Z = (X - µ) / σ"
   ]
  },
  {
   "cell_type": "code",
   "execution_count": 3,
   "id": "cd547d29",
   "metadata": {},
   "outputs": [
    {
     "data": {
      "text/plain": [
       "0.625"
      ]
     },
     "execution_count": 3,
     "metadata": {},
     "output_type": "execute_result"
    }
   ],
   "source": [
    "Z = (50-45)/8\n",
    "Z"
   ]
  },
  {
   "cell_type": "markdown",
   "id": "fe2a74e7",
   "metadata": {},
   "source": [
    "Find probability P(X>50) = 1 - stats.norm.cdf(abs(Z_score))"
   ]
  },
  {
   "cell_type": "code",
   "execution_count": 4,
   "id": "b3cf6594",
   "metadata": {},
   "outputs": [
    {
     "data": {
      "text/plain": [
       "0.26598552904870054"
      ]
     },
     "execution_count": 4,
     "metadata": {},
     "output_type": "execute_result"
    }
   ],
   "source": [
    "1-stats.norm.cdf(abs(0.625))"
   ]
  },
  {
   "cell_type": "markdown",
   "id": "b5ca915b",
   "metadata": {},
   "source": [
    "Or Find probability P(X<=50), p_value = stats.norm.cdf(abs(Z_score))"
   ]
  },
  {
   "cell_type": "code",
   "execution_count": 6,
   "id": "feb9865f",
   "metadata": {},
   "outputs": [
    {
     "data": {
      "text/plain": [
       "0.7340144709512995"
      ]
     },
     "execution_count": 6,
     "metadata": {},
     "output_type": "execute_result"
    }
   ],
   "source": [
    "p_value = stats.norm.cdf(abs(0.625))\n",
    "p_value"
   ]
  },
  {
   "cell_type": "markdown",
   "id": "23074ed1",
   "metadata": {},
   "source": [
    "P(X>50) = 1 - P(X<=50)"
   ]
  },
  {
   "cell_type": "code",
   "execution_count": 7,
   "id": "da085e46",
   "metadata": {},
   "outputs": [
    {
     "data": {
      "text/plain": [
       "0.266"
      ]
     },
     "execution_count": 7,
     "metadata": {},
     "output_type": "execute_result"
    }
   ],
   "source": [
    "1 - 0.734"
   ]
  }
 ],
 "metadata": {
  "kernelspec": {
   "display_name": "Python 3 (ipykernel)",
   "language": "python",
   "name": "python3"
  },
  "language_info": {
   "codemirror_mode": {
    "name": "ipython",
    "version": 3
   },
   "file_extension": ".py",
   "mimetype": "text/x-python",
   "name": "python",
   "nbconvert_exporter": "python",
   "pygments_lexer": "ipython3",
   "version": "3.9.12"
  }
 },
 "nbformat": 4,
 "nbformat_minor": 5
}
