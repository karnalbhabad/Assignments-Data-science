{
 "cells": [
  {
   "cell_type": "markdown",
   "id": "61318a90",
   "metadata": {},
   "source": [
    "# Basic statistics level-2"
   ]
  },
  {
   "cell_type": "markdown",
   "id": "bfe12199",
   "metadata": {},
   "source": [
    "# Assignment-2, Set-2, Question no.5"
   ]
  },
  {
   "cell_type": "code",
   "execution_count": 1,
   "id": "46dd29ed",
   "metadata": {},
   "outputs": [],
   "source": [
    "import numpy as np\n",
    "from scipy import stats\n",
    "from scipy.stats import norm"
   ]
  },
  {
   "cell_type": "markdown",
   "id": "91767c1f",
   "metadata": {},
   "source": [
    " Mean profiles from two different divisions of a company = Mean1 + Mean2 "
   ]
  },
  {
   "cell_type": "code",
   "execution_count": 8,
   "id": "85d8d805",
   "metadata": {},
   "outputs": [
    {
     "name": "stdout",
     "output_type": "stream",
     "text": [
      "Mean Profit = 540 Million\n"
     ]
    }
   ],
   "source": [
    "Mean = 5+7\n",
    "print('Mean Profit =', Mean*45, 'Million')"
   ]
  },
  {
   "cell_type": "markdown",
   "id": "63a76f99",
   "metadata": {},
   "source": [
    "Variance of profits from two different divisions of a company = SD^2 = SD1^2 + SD2^2"
   ]
  },
  {
   "cell_type": "code",
   "execution_count": 10,
   "id": "b69ba64d",
   "metadata": {},
   "outputs": [
    {
     "name": "stdout",
     "output_type": "stream",
     "text": [
      "Standard Deviation = 315 Million\n"
     ]
    }
   ],
   "source": [
    "SD = (3^2)+(4^2)\n",
    "print('Standard Deviation =', SD*45, 'Million')"
   ]
  },
  {
   "cell_type": "markdown",
   "id": "4fb1738f",
   "metadata": {},
   "source": [
    " A. Specify a Rupee range (centered on the mean) such that it contains 95% probability for the annual profit of the company."
   ]
  },
  {
   "cell_type": "code",
   "execution_count": 7,
   "id": "43fb332f",
   "metadata": {},
   "outputs": [
    {
     "name": "stdout",
     "output_type": "stream",
     "text": [
      "Range is Rs = (-77.38865513011706, 1157.388655130117) Million\n"
     ]
    }
   ],
   "source": [
    "print('Range is Rs =', (stats.norm.interval(0.95,540,315)),'Million')"
   ]
  },
  {
   "cell_type": "markdown",
   "id": "88bfa48f",
   "metadata": {},
   "source": [
    "B. Specify the 5th percentile of profit (in Rupees) for the company, \n",
    "To compute 5th Percentile, we use the formula X=μ + Zσ; wherein from z table, 5 percentile = -1.64"
   ]
  },
  {
   "cell_type": "code",
   "execution_count": 11,
   "id": "1cfa281f",
   "metadata": {},
   "outputs": [
    {
     "name": "stdout",
     "output_type": "stream",
     "text": [
      "5th percentile of profit = 23.399999999999977 Million\n"
     ]
    }
   ],
   "source": [
    "X = 540+(-1.64)*(315)\n",
    "print('5th percentile of profit =', X , 'Million')"
   ]
  },
  {
   "cell_type": "markdown",
   "id": "d8bc3ed6",
   "metadata": {},
   "source": [
    "C. Which of the two divisions has a larger probability of making a loss in a given year?"
   ]
  },
  {
   "cell_type": "code",
   "execution_count": 12,
   "id": "411e1cf6",
   "metadata": {},
   "outputs": [
    {
     "data": {
      "text/plain": [
       "0.0477903522728147"
      ]
     },
     "execution_count": 12,
     "metadata": {},
     "output_type": "execute_result"
    }
   ],
   "source": [
    "# Probability of Division 1 making a loss p(X<0)\n",
    "stats.norm.cdf(0,5,3)"
   ]
  },
  {
   "cell_type": "code",
   "execution_count": 13,
   "id": "cc73bc81",
   "metadata": {},
   "outputs": [
    {
     "data": {
      "text/plain": [
       "0.040059156863817086"
      ]
     },
     "execution_count": 13,
     "metadata": {},
     "output_type": "execute_result"
    }
   ],
   "source": [
    "# probability of division 2 making a loss P(X<0)\n",
    "stats.norm.cdf(0,7,4)"
   ]
  }
 ],
 "metadata": {
  "kernelspec": {
   "display_name": "Python 3 (ipykernel)",
   "language": "python",
   "name": "python3"
  },
  "language_info": {
   "codemirror_mode": {
    "name": "ipython",
    "version": 3
   },
   "file_extension": ".py",
   "mimetype": "text/x-python",
   "name": "python",
   "nbconvert_exporter": "python",
   "pygments_lexer": "ipython3",
   "version": "3.9.12"
  }
 },
 "nbformat": 4,
 "nbformat_minor": 5
}
