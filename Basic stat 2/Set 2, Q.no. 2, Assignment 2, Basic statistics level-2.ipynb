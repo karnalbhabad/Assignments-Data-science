{
 "cells": [
  {
   "cell_type": "markdown",
   "id": "452eebd9",
   "metadata": {},
   "source": [
    "# Basic statistics level-2"
   ]
  },
  {
   "cell_type": "markdown",
   "id": "f8a12b84",
   "metadata": {},
   "source": [
    "# Assignment-2, Set-2, Question no.2"
   ]
  },
  {
   "cell_type": "markdown",
   "id": "0559bfd8",
   "metadata": {},
   "source": [
    "No. of clerical employees at an insurance claims center = 400, mean µ = 38 , Standard deviation σ = 6"
   ]
  },
  {
   "cell_type": "markdown",
   "id": "2a2ac0c2",
   "metadata": {},
   "source": [
    "Z score = (Value - Mean)/SD  "
   ]
  },
  {
   "cell_type": "markdown",
   "id": "35a619a7",
   "metadata": {},
   "source": [
    "A.\tMore employees at the processing center are older than 44 than between 38 and 44."
   ]
  },
  {
   "cell_type": "code",
   "execution_count": 8,
   "id": "bd0c9239",
   "metadata": {},
   "outputs": [],
   "source": [
    "from scipy import stats15p\n",
    "from scipy.stats import norm"
   ]
  },
  {
   "cell_type": "code",
   "execution_count": 9,
   "id": "eecd48b5",
   "metadata": {},
   "outputs": [
    {
     "data": {
      "text/plain": [
       "0.15865525393145707"
      ]
     },
     "execution_count": 9,
     "metadata": {},
     "output_type": "execute_result"
    }
   ],
   "source": [
    "# p(X>44); Employees older than 44 years of age\n",
    "1 - stats.norm.cdf(44, loc=38, scale=6)"
   ]
  },
  {
   "cell_type": "code",
   "execution_count": 12,
   "id": "17bb0a13",
   "metadata": {},
   "outputs": [
    {
     "data": {
      "text/plain": [
       "0.3413447460685429"
      ]
     },
     "execution_count": 12,
     "metadata": {},
     "output_type": "execute_result"
    }
   ],
   "source": [
    "# p(38<X<44); Employees between 38 to 44 years of age\n",
    "stats.norm.cdf(44,38,6) - stats.norm.cdf(38,38,6)"
   ]
  },
  {
   "cell_type": "markdown",
   "id": "8c99aca0",
   "metadata": {},
   "source": [
    "B.\tA training program for employees under the age of 30 at the center would be expected to attract about 36 employees."
   ]
  },
  {
   "cell_type": "code",
   "execution_count": 14,
   "id": "7240e5fd",
   "metadata": {},
   "outputs": [
    {
     "data": {
      "text/plain": [
       "0.09121121972586788"
      ]
     },
     "execution_count": 14,
     "metadata": {},
     "output_type": "execute_result"
    }
   ],
   "source": [
    "# p(X<30); Employees under 30 years of age\n",
    "stats.norm.cdf(30,38,6)"
   ]
  },
  {
   "cell_type": "code",
   "execution_count": 15,
   "id": "7f41cd40",
   "metadata": {},
   "outputs": [
    {
     "data": {
      "text/plain": [
       "36.484487890347154"
      ]
     },
     "execution_count": 15,
     "metadata": {},
     "output_type": "execute_result"
    }
   ],
   "source": [
    "# No. of employees attending training program from 400 nos. is N*P(X<30)\n",
    "400*stats.norm.cdf(30,38,6)"
   ]
  }
 ],
 "metadata": {
  "kernelspec": {
   "display_name": "Python 3 (ipykernel)",
   "language": "python",
   "name": "python3"
  },
  "language_info": {
   "codemirror_mode": {
    "name": "ipython",
    "version": 3
   },
   "file_extension": ".py",
   "mimetype": "text/x-python",
   "name": "python",
   "nbconvert_exporter": "python",
   "pygments_lexer": "ipython3",
   "version": "3.9.12"
  }
 },
 "nbformat": 4,
 "nbformat_minor": 5
}
