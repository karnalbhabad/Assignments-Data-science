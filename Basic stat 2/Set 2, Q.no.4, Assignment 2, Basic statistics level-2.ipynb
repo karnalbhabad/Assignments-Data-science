{
 "cells": [
  {
   "cell_type": "markdown",
   "id": "ec5621f7",
   "metadata": {},
   "source": [
    "# Basic statistics level-2"
   ]
  },
  {
   "cell_type": "markdown",
   "id": "96c51457",
   "metadata": {},
   "source": [
    "# Assignment-2, Set-2, Question no.4"
   ]
  },
  {
   "cell_type": "code",
   "execution_count": 2,
   "id": "ae7d4762",
   "metadata": {},
   "outputs": [],
   "source": [
    "from scipy import stats\n",
    "from scipy.stats import norm"
   ]
  },
  {
   "cell_type": "code",
   "execution_count": 1,
   "id": "5eb74d01",
   "metadata": {},
   "outputs": [],
   "source": [
    "from scipy import stats\n",
    "from scipy.stats import norm"
   ]
  },
  {
   "cell_type": "markdown",
   "id": "da3fcd02",
   "metadata": {},
   "source": [
    "X= N(100, 20**2)"
   ]
  },
  {
   "cell_type": "code",
   "execution_count": 2,
   "id": "7e3d4043",
   "metadata": {},
   "outputs": [
    {
     "data": {
      "text/plain": [
       "(48.48341392902199, 151.516586070978)"
      ]
     },
     "execution_count": 2,
     "metadata": {},
     "output_type": "execute_result"
    }
   ],
   "source": [
    "stats.norm.interval(0.99,100,20)"
   ]
  },
  {
   "cell_type": "markdown",
   "id": "23c9ca50",
   "metadata": {},
   "source": [
    "a = 48.483413902199 and b = 151.516586070978"
   ]
  },
  {
   "cell_type": "markdown",
   "id": "d3daa910",
   "metadata": {},
   "source": [
    "Option D is correct"
   ]
  }
 ],
 "metadata": {
  "kernelspec": {
   "display_name": "Python 3 (ipykernel)",
   "language": "python",
   "name": "python3"
  },
  "language_info": {
   "codemirror_mode": {
    "name": "ipython",
    "version": 3
   },
   "file_extension": ".py",
   "mimetype": "text/x-python",
   "name": "python",
   "nbconvert_exporter": "python",
   "pygments_lexer": "ipython3",
   "version": "3.9.12"
  }
 },
 "nbformat": 4,
 "nbformat_minor": 5
}
